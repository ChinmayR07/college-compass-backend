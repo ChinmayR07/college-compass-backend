{
 "cells": [
  {
   "cell_type": "code",
   "execution_count": 1,
   "id": "b3adc9ee",
   "metadata": {},
   "outputs": [],
   "source": [
    "import pandas as pd\n",
    "import numpy as np\n",
    "\n",
    "# Load the CSV file into a Pandas DataFrame\n",
    "df = pd.read_csv('C:/College-Compass/college-compass-backend-master/raw-data/institution_details.csv')\n",
    "\n",
    "# Filter the DataFrame to include only rows where \"Graduate offering (HD2021)\" is 1\n",
    "df = df[df['Graduate offering (HD2021)'] == 1]\n",
    "\n",
    "# Save the cleaned dataset to a new CSV file\n",
    "df.to_csv('C:/College-Compass/college-compass-backend-master/clean_dataset/graduate_school_records.csv', index=False)"
   ]
  },
  {
   "cell_type": "code",
   "execution_count": 2,
   "id": "0abcf0ef",
   "metadata": {},
   "outputs": [],
   "source": [
    "# Load the cleaned graduate school dataset\n",
    "grad_school_df = pd.read_csv('C:/College-Compass/college-compass-backend-master/clean_dataset/graduate_school_records.csv')\n",
    "\n",
    "# Load the admission considerations dataset\n",
    "admission_considerations_df = pd.read_csv('C:/College-Compass/college-compass-backend-master/raw-data/admission_considerations.csv')\n",
    "\n",
    "# Filter the admission considerations dataset to only include rows where \"UnitID\" matches a value in the cleaned graduate school dataset\n",
    "filtered_admission_considerations_df = admission_considerations_df[admission_considerations_df['UnitID'].isin(grad_school_df['UnitID'])]\n",
    "\n",
    "# Load the enrollment details dataset\n",
    "enrollment_details_df = pd.read_csv('C:/College-Compass/college-compass-backend-master/raw-data/enrollment_details.csv')\n",
    "\n",
    "# Filter the enrollment details dataset to only include rows where \"UnitID\" matches a value in the cleaned graduate school dataset\n",
    "filtered_enrollment_details_df = enrollment_details_df[enrollment_details_df['UnitID'].isin(grad_school_df['UnitID'])]\n",
    "\n",
    "# Load the ethnicity details dataset\n",
    "ethnicity_details_df = pd.read_csv('C:/College-Compass/college-compass-backend-master/raw-data/ethnicity_details.csv')\n",
    "\n",
    "# Filter the ethnicity details dataset to only include rows where \"UnitID\" matches a value in the cleaned graduate school dataset\n",
    "filtered_ethnicity_details_df = ethnicity_details_df[ethnicity_details_df['UnitID'].isin(grad_school_df['UnitID'])]\n",
    "\n",
    "# Load the tuition details dataset\n",
    "tuition_details_df = pd.read_csv('C:/College-Compass/college-compass-backend-master/raw-data/tuition_details.csv')\n",
    "\n",
    "# Filter the tuition details dataset to only include rows where \"UnitID\" matches a value in the cleaned graduate school dataset\n",
    "filtered_tuition_details_df = tuition_details_df[tuition_details_df['UnitID'].isin(grad_school_df['UnitID'])]\n",
    "\n",
    "# Save the filtered datasets to new CSV files\n",
    "filtered_admission_considerations_df.to_csv('C:/College-Compass/college-compass-backend-master/clean_dataset/filtered_admission_considerations.csv', index=False)\n",
    "filtered_enrollment_details_df.to_csv('C:/College-Compass/college-compass-backend-master/clean_dataset/filtered_enrollment_details.csv', index=False)\n",
    "filtered_ethnicity_details_df.to_csv('C:/College-Compass/college-compass-backend-master/clean_dataset/filtered_ethnicity_details.csv', index=False)\n",
    "filtered_tuition_details_df.to_csv('C:/College-Compass/college-compass-backend-master/clean_dataset/filtered_tuition_details.csv', index=False)\n"
   ]
  },
  {
   "cell_type": "code",
   "execution_count": 4,
   "id": "29882178",
   "metadata": {},
   "outputs": [],
   "source": [
    "# read the filtered data from admission_considerations.csv\n",
    "admission_df = pd.read_csv(\"C:/College-Compass/college-compass-backend-master/clean_dataset/filtered_admission_considerations.csv\")\n",
    "\n",
    "# read the filtered data from enrollment_details.csv\n",
    "enrollment_df = pd.read_csv(\"C:/College-Compass/college-compass-backend-master/clean_dataset/filtered_enrollment_details.csv\")\n",
    "\n",
    "# read the filtered data from ethnicity_details.csv\n",
    "ethnicity_df = pd.read_csv(\"C:/College-Compass/college-compass-backend-master/clean_dataset/filtered_ethnicity_details.csv\")\n",
    "\n",
    "# read the filtered data from tuition_details.csv\n",
    "tuition_df = pd.read_csv(\"C:/College-Compass/college-compass-backend-master/clean_dataset/filtered_tuition_details.csv\")\n",
    "\n",
    "# read the filtered data from graduate_school_records.csv\n",
    "grad_school_df = pd.read_csv(\"C:/College-Compass/college-compass-backend-master/clean_dataset/graduate_school_records.csv\")\n",
    "\n",
    "# merge the data from all the dataframes on the 'UnitID' column\n",
    "merged_df = pd.merge(admission_df, enrollment_df, on='UnitID')\n",
    "merged_df = pd.merge(merged_df, ethnicity_df, on='UnitID')\n",
    "merged_df = pd.merge(merged_df, tuition_df, on='UnitID', suffixes=('_tuition', '_merged'))\n",
    "merged_df = pd.merge(merged_df, grad_school_df, on='UnitID')\n",
    "\n",
    "# write the merged data to a new csv file\n",
    "merged_df.to_csv(\"C:/College-Compass/college-compass-backend-master/clean_dataset/combined_data.csv\", index=False)\n"
   ]
  },
  {
   "cell_type": "code",
   "execution_count": 7,
   "id": "f5f77222",
   "metadata": {},
   "outputs": [],
   "source": [
    "df = pd.read_csv('C:/College-Compass/college-compass-backend-master/clean_dataset/combined_data.csv')"
   ]
  },
  {
   "cell_type": "code",
   "execution_count": 8,
   "id": "711c2443",
   "metadata": {},
   "outputs": [
    {
     "data": {
      "text/plain": [
       "UnitID                                  0\n",
       "Institution Name_x                      0\n",
       "Open admission policy (IC2021)         21\n",
       "Secondary school GPA (ADM2021)        725\n",
       "Secondary school rank (ADM2021)       725\n",
       "                                     ... \n",
       "ZIP code (HD2021)                       0\n",
       "Institutional category (HD2021)         0\n",
       "Highest level of offering (HD2021)      0\n",
       "Undergraduate offering (HD2021)         0\n",
       "Graduate offering (HD2021)              0\n",
       "Length: 366, dtype: int64"
      ]
     },
     "execution_count": 8,
     "metadata": {},
     "output_type": "execute_result"
    }
   ],
   "source": [
    "df.isna().sum()"
   ]
  },
  {
   "cell_type": "code",
   "execution_count": 9,
   "id": "b1d7ddc2",
   "metadata": {},
   "outputs": [
    {
     "data": {
      "text/plain": [
       "188502"
      ]
     },
     "execution_count": 9,
     "metadata": {},
     "output_type": "execute_result"
    }
   ],
   "source": [
    "df.isna().sum().sum()"
   ]
  },
  {
   "cell_type": "code",
   "execution_count": 6,
   "id": "5e7b393f",
   "metadata": {},
   "outputs": [],
   "source": [
    "import pandas as pd\n",
    "import numpy as np\n",
    "\n",
    "# Load the data\n",
    "admissions_df = pd.read_csv('C:/College-Compass/college-compass-backend-master/clean_dataset/filtered_admission_considerations.csv')\n",
    "\n",
    "# Calculate the percentage of missing values in each column\n",
    "column_missing_perc = admissions_df.isnull().sum() / len(admissions_df)\n",
    "\n",
    "# Calculate the means of columns containing numeric values\n",
    "numeric_columns = admissions_df.select_dtypes(include=[np.number]).columns.tolist()\n",
    "numeric_columns.remove('UnitID') # Exclude the 'UnitID' column\n",
    "column_means = admissions_df[numeric_columns].mean()\n",
    "\n",
    "# Fill missing values in columns containing less than or equal to 40% missing values\n",
    "for column_name in column_missing_perc.index:\n",
    "    if column_missing_perc[column_name] <= 0.4 and column_name in numeric_columns:\n",
    "        column_mean = column_means[column_name]\n",
    "        admissions_df[column_name].fillna(column_mean, inplace=True)\n",
    "\n",
    "# Write the cleaned data to a new file\n",
    "admissions_df.to_csv('C:/College-Compass/college-compass-backend-master/clean_dataset/admission_considerations_filtered_cleaned.csv', index=False)\n"
   ]
  },
  {
   "cell_type": "code",
   "execution_count": 11,
   "id": "e9ab3256",
   "metadata": {},
   "outputs": [],
   "source": [
    "df = pd.read_csv('C:/College-Compass/college-compass-backend-master/clean_dataset/admission_considerations_filtered_cleaned.csv')"
   ]
  },
  {
   "cell_type": "code",
   "execution_count": 13,
   "id": "cfbd9dc6",
   "metadata": {},
   "outputs": [
    {
     "data": {
      "text/plain": [
       "UnitID                                                          0\n",
       "Institution Name                                                0\n",
       "Open admission policy (IC2021)                                  0\n",
       "Secondary school GPA (ADM2021)                                  0\n",
       "Secondary school rank (ADM2021)                                 0\n",
       "Secondary school record (ADM2021)                               0\n",
       "Completion of college-preparatory program (ADM2021)             0\n",
       "Recommendations (ADM2021)                                       0\n",
       "Formal demonstration of competencies (ADM2021)                  0\n",
       "Admission test scores (ADM2021)                                 0\n",
       "Other Test (Wonderlic  WISC-III  etc.) (ADM2021)                0\n",
       "TOEFL (Test of English as a Foreign Language (ADM2021)          0\n",
       "Open admission policy (IC2020)                                  0\n",
       "Secondary school GPA (ADM2020_RV)                               0\n",
       "Secondary school rank (ADM2020_RV)                              0\n",
       "Secondary school record (ADM2020_RV)                            0\n",
       "Completion of college-preparatory program (ADM2020_RV)          0\n",
       "Recommendations (ADM2020_RV)                                    0\n",
       "Formal demonstration of competencies (ADM2020_RV)               0\n",
       "Admission test scores (ADM2020_RV)                              0\n",
       "Other Test (Wonderlic  WISC-III  etc.) (ADM2020_RV)             0\n",
       "TOEFL (Test of English as a Foreign Language (ADM2020_RV)       0\n",
       "Open admission policy (IC2019)                                  0\n",
       "Secondary school GPA (ADM2019_RV)                               0\n",
       "Secondary school rank (ADM2019_RV)                              0\n",
       "Secondary school record (ADM2019_RV)                            0\n",
       "Completion of college-preparatory program (ADM2019_RV)          0\n",
       "Recommendations (ADM2019_RV)                                    0\n",
       "Formal demonstration of competencies (ADM2019_RV)               0\n",
       "Admission test scores (ADM2019_RV)                              0\n",
       "Other Test (Wonderlic  WISC-III  etc.) (ADM2019_RV)             0\n",
       "TOEFL (Test of English as a Foreign Language (ADM2019_RV)       0\n",
       "Open admission policy (IC2018)                                  0\n",
       "Secondary school GPA (ADM2018_RV)                               0\n",
       "Secondary school rank (ADM2018_RV)                              0\n",
       "Secondary school record (ADM2018_RV)                            0\n",
       "Completion of college-preparatory program (ADM2018_RV)          0\n",
       "Recommendations (ADM2018_RV)                                    0\n",
       "Formal demonstration of competencies (ADM2018_RV)               0\n",
       "Admission test scores (ADM2018_RV)                              0\n",
       "Other Test (Wonderlic  WISC-III  etc.) (ADM2018_RV)             0\n",
       "TOEFL (Test of English as a Foreign Language (ADM2018_RV)       0\n",
       "Open admission policy (IC2017)                                  0\n",
       "Secondary school GPA (ADM2017_RV)                               0\n",
       "Secondary school rank (ADM2017_RV)                              0\n",
       "Secondary school record (ADM2017_RV)                            0\n",
       "Completion of college-preparatory program (ADM2017_RV)          0\n",
       "Recommendations (ADM2017_RV)                                    0\n",
       "Formal demonstration of competencies (ADM2017_RV)               0\n",
       "Admission test scores (ADM2017_RV)                              0\n",
       "Other Test (Wonderlic  WISC-III  etc.) (ADM2017_RV)             0\n",
       "TOEFL (Test of English as a Foreign Language (ADM2017_RV)       0\n",
       "Unnamed: 52                                                  2143\n",
       "dtype: int64"
      ]
     },
     "execution_count": 13,
     "metadata": {},
     "output_type": "execute_result"
    }
   ],
   "source": [
    "df.isna().sum()"
   ]
  },
  {
   "cell_type": "code",
   "execution_count": null,
   "id": "ba47b566",
   "metadata": {},
   "outputs": [],
   "source": []
  }
 ],
 "metadata": {
  "kernelspec": {
   "display_name": "Python 3 (ipykernel)",
   "language": "python",
   "name": "python3"
  },
  "language_info": {
   "codemirror_mode": {
    "name": "ipython",
    "version": 3
   },
   "file_extension": ".py",
   "mimetype": "text/x-python",
   "name": "python",
   "nbconvert_exporter": "python",
   "pygments_lexer": "ipython3",
   "version": "3.10.9"
  }
 },
 "nbformat": 4,
 "nbformat_minor": 5
}
